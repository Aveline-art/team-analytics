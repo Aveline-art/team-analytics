{
 "cells": [
  {
   "cell_type": "markdown",
   "id": "2aa5862f",
   "metadata": {
    "slideshow": {
     "slide_type": "slide"
    }
   },
   "source": [
    "# GitHub Analytics of the Hack for LA website project\n",
    "\n",
    "By Ava Li"
   ]
  },
  {
   "cell_type": "markdown",
   "id": "ba95b4b0",
   "metadata": {
    "slideshow": {
     "slide_type": "slide"
    }
   },
   "source": [
    "## Abstract\n",
    "\n",
    "This research aims to answer the question: what is the current and projected velocity of the HackForLA website team."
   ]
  },
  {
   "cell_type": "code",
   "execution_count": null,
   "id": "e3e23a6a",
   "metadata": {},
   "outputs": [],
   "source": []
  }
 ],
 "metadata": {
  "kernelspec": {
   "display_name": "Python (mpl)",
   "language": "python",
   "name": "mpl"
  },
  "language_info": {
   "codemirror_mode": {
    "name": "ipython",
    "version": 3
   },
   "file_extension": ".py",
   "mimetype": "text/x-python",
   "name": "python",
   "nbconvert_exporter": "python",
   "pygments_lexer": "ipython3",
   "version": "3.8.5"
  }
 },
 "nbformat": 4,
 "nbformat_minor": 5
}

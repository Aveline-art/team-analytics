{
 "cells": [
  {
   "cell_type": "markdown",
   "id": "2aa5862f",
   "metadata": {
    "slideshow": {
     "slide_type": "slide"
    }
   },
   "source": [
    "# GitHub Analytics of the Hack for LA website project\n",
    "\n",
    "By Ava Li"
   ]
  },
  {
   "cell_type": "markdown",
   "id": "ba95b4b0",
   "metadata": {
    "slideshow": {
     "slide_type": "slide"
    }
   },
   "source": [
    "## Abstract\n",
    "\n",
    "This research aims to answer the question: what is the current and projected velocity of the HackForLA website team. Velocity, in this scenario, can be thought of as the amount of work that is accomplished over a set period of time. To measure work done, we examined the timeline of every issue and pull request in the hackforla/website repository. More specifically, we collected information on when an issue is created, assigned, and closed and when a pull request is opened, reviewed, and closed. With this information, we created graphics that shows the velocity of the HackforLA website team for the last five months. To accurately assess velocity, we not only examined overall velocity, we also differentied issues and pull requests by their role and size to guage the main and intersectional effects they have on velocity."
   ]
  },
  {
   "cell_type": "markdown",
   "id": "65250d8a",
   "metadata": {},
   "source": [
    "## Introduction\n",
    "\n",
    "As the HackForLA team expands, we are ready to take on bigger and bigger projects. In order to effectively track our projects, we need a way to measure the velocity of our team. For this issue, we will gather various metrics that allows us to access not only the velocity of the team, but points where velocity can be improved. This allows us to better communicate with stakeholders, as well as team members, on our progress with the Website's various projects.\n",
    "\n",
    "The goal of this research is to a) get an estimate of when features can be expected to be completed b) at what points can we improve our velocity, and c) assess the accuracy of our labels."
   ]
  },
  {
   "cell_type": "markdown",
   "id": "eeb500d0",
   "metadata": {},
   "source": [
    "### Defining Velocity\n",
    "\n",
    "In terms of the website project, velocity can be thought of as the amount of time taken for work to go from one stage to another. For people familiar with the physics defitnition of velocity, this sounds somewhat counterintuitive. Certainly, the more accurate way to measure velocity would be the inverse: the amount of work done at a certain amount of time. This, however, is not a preferable way to measure velocity for two reasons:\n",
    "\n",
    "1. Amount of work cannot be easily quantified as most of the work of coding involves brainstorming and testing and is this invisible.\n",
    "2. One applied benefit to velocity is understanding when a new feature or product will be delivered. Because of that, time is a much more valuable measure than work.\n",
    "3. At certain stages, work is placed into queues, and measuring work done would not capture these moments when a task, or issue, is in a queue. Queue time is an important part of velocity to capture because it indicates areas where velocity can improve.\n",
    "\n",
    "Of course, despite measuring velocity in terms of time, we still need to decide the point where time starts and the point where time ends. For this particular study, we have identified six key points in the Hack For LA website team's workflow that represent moments of work hand-off. They are: issue opening, issue assignment, pull request opening, pull request reviewed, pull request closing, and issue closing. To clairfy on what each of these means:\n",
    "\n",
    "* Issue opening is the moment when an issue has been codified and placed into a queue. Note that at this point, no physical progress has begun, but is awaiting for resources to free up such progress can formally begin.\n",
    "* Issue assignment is the moment when an issue is actively being worked on. This work is usually done by one or more individuals.\n",
    "* Pull request opening is the moment when the first draft an assigned issue has been completed and is placed into a queue. The next step is for a reviewer to suggest changes to work.\n",
    "* Pull request reviewed is the moment when a reviewer had completed a review of a draft. After this, work on the next draft of the issue starts.\n",
    "* Issue closed and pull request closed is the moment when work is completed, and the final draft is accepted.\n",
    "\n",
    "By isolating these key points, we began to construct graphics on the time it takes for an issue to move from one point to the next. This allowed us to answer how many issues are completed in a month, where is the bottleneck in the team's workflow, and whether we our size labels accurately reflects the time commitment of a ticket."
   ]
  },
  {
   "cell_type": "markdown",
   "id": "453ea6d5",
   "metadata": {},
   "source": [
    "### Labels\n",
    "\n",
    "Labels represent ways to classify an issue. For example, an issue might involve a certain type of work, such as refactoring, and those issues would be marked with a refactoring label. For this research, we looked at two categories of labels commonly used at the Hack For LA website team: size and role."
   ]
  },
  {
   "cell_type": "markdown",
   "id": "9aea5827",
   "metadata": {},
   "source": [
    "#### Size\n",
    "\n",
    "Size labels represent, in an ideal world, an accurate assessment of the time it takes for an issue to be completed after assignment. In other words, the size labels themselves should act as an accurate assessment of velocity. Why then, do we need this current research? As it currently stands on the website team, the standards for placing the size labels are informal. These labels are placed upon issue creation, and thus serves as a best guess of how long an issue would take. This guess is usually based on the preferences of the creator of the issue, which might include their expertise, their assumptions of an assignee's expertise, and the type of issues that typically has a select size labels. As these preferences may vary, size labels are often do not capture an accurate representation of time to completion.\n",
    "\n",
    "In addition, individual differences in assignees might inflate or deflate a label's time to completion. One assignee might find an issue quite simple and straightforward, while another might discover that the issue requires substantial research to complete. For instance, a medium issue can be completed in as little as two or 30 days! Therefore, these size labels show a large amount of variance, which would render the label meaningless. Therefore, in this study, we examine size, to assess whether they accurately reflect an issue's time to completion and set criterias for when to assign certain size labels.\n",
    "\n",
    "In this study, we will examine four size labels: 'Good first issue', 'Size: Good second issue', 'Size: Medium', and 'Size: Large'. To simply matters, this write-up will refer to them as First, Second, Medium and Large labels respectively."
   ]
  },
  {
   "cell_type": "markdown",
   "id": "d9c02f66",
   "metadata": {},
   "source": [
    "#### Role"
   ]
  },
  {
   "cell_type": "markdown",
   "id": "d2f27836",
   "metadata": {},
   "source": [
    "## Method\n"
   ]
  },
  {
   "cell_type": "markdown",
   "id": "75c64240",
   "metadata": {},
   "source": [
    "### GitHub API"
   ]
  },
  {
   "cell_type": "markdown",
   "id": "6034100a",
   "metadata": {},
   "source": [
    "### MatplotLib"
   ]
  },
  {
   "cell_type": "markdown",
   "id": "ce1068d8",
   "metadata": {},
   "source": [
    "## Results"
   ]
  },
  {
   "cell_type": "code",
   "execution_count": null,
   "id": "c0013094",
   "metadata": {},
   "outputs": [],
   "source": []
  },
  {
   "cell_type": "markdown",
   "id": "6a69cc9b",
   "metadata": {},
   "source": [
    "## Conclusion\n",
    "\n",
    "### Ways to Improve Velocity\n",
    "\n",
    "### Limitations and Future of the automation"
   ]
  },
  {
   "cell_type": "code",
   "execution_count": null,
   "id": "d9e8045a",
   "metadata": {},
   "outputs": [],
   "source": []
  }
 ],
 "metadata": {
  "kernelspec": {
   "display_name": "Python (mpl)",
   "language": "python",
   "name": "mpl"
  },
  "language_info": {
   "codemirror_mode": {
    "name": "ipython",
    "version": 3
   },
   "file_extension": ".py",
   "mimetype": "text/x-python",
   "name": "python",
   "nbconvert_exporter": "python",
   "pygments_lexer": "ipython3",
   "version": "3.8.5"
  }
 },
 "nbformat": 4,
 "nbformat_minor": 5
}
